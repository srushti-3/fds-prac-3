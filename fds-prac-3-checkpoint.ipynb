{
 "cells": [
  {
   "cell_type": "code",
   "execution_count": null,
   "id": "89b7471c",
   "metadata": {},
   "outputs": [
    {
     "name": "stdout",
     "output_type": "stream",
     "text": [
      "enter 'd' to deposit, 'w' to withdraw\n"
     ]
    }
   ],
   "source": [
    "bal=0\n",
    "print(\"enter 'd' to deposit, 'w' to withdraw\")\n",
    "\n",
    "opr=input(\"enter your choice: \")\n",
    "if opr==\"d\":\n",
    "  d = int(input(\"enter the amount you want to deposit\"))\n",
    "  bal+=d\n",
    "  print(\"account balance after deposition is: \", bal)\n",
    "elif opr==\"w\":\n",
    "  w = int(input(\"enter the amount you want to withdraw\"))\n",
    "  if \"w\"> bal:\n",
    "    print(\"withdrawl amount exceeding \")\n",
    "  else:\n",
    "    bal-=w\n",
    "    print(\"account balance after withdrawl is: \", bal)\n",
    "else:\n",
    "  print(\"invalid input\")\n",
    "print(\"amount balance:\",bal)"
   ]
  },
  {
   "cell_type": "code",
   "execution_count": null,
   "id": "8b0a8662",
   "metadata": {},
   "outputs": [],
   "source": []
  }
 ],
 "metadata": {
  "kernelspec": {
   "display_name": "Python 3",
   "language": "python",
   "name": "python3"
  },
  "language_info": {
   "codemirror_mode": {
    "name": "ipython",
    "version": 3
   },
   "file_extension": ".py",
   "mimetype": "text/x-python",
   "name": "python",
   "nbconvert_exporter": "python",
   "pygments_lexer": "ipython3",
   "version": "3.8.8"
  }
 },
 "nbformat": 4,
 "nbformat_minor": 5
}
